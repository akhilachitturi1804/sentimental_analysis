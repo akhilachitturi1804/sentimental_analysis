{
 "cells": [
  {
   "cell_type": "code",
   "execution_count": 1,
   "metadata": {},
   "outputs": [],
   "source": [
    "import re\n",
    "import numpy as np\n",
    "import pandas as pd\n",
    "import seaborn as sns\n",
    "import matplotlib.pyplot as plt\n",
    "from nltk.stem import WordNetLemmatizer\n",
    "from sklearn.svm import LinearSVC\n",
    "from sklearn.naive_bayes import BernoulliNB\n",
    "from sklearn.linear_model import LogisticRegression\n",
    "from sklearn.model_selection import train_test_split\n",
    "from sklearn.feature_extraction.text import TfidfVectorizer\n",
    "from sklearn.metrics import confusion_matrix, classification_report"
   ]
  },
  {
   "cell_type": "code",
   "execution_count": 7,
   "metadata": {},
   "outputs": [
    {
     "data": {
      "text/html": [
       "<div>\n",
       "<style scoped>\n",
       "    .dataframe tbody tr th:only-of-type {\n",
       "        vertical-align: middle;\n",
       "    }\n",
       "\n",
       "    .dataframe tbody tr th {\n",
       "        vertical-align: top;\n",
       "    }\n",
       "\n",
       "    .dataframe thead th {\n",
       "        text-align: right;\n",
       "    }\n",
       "</style>\n",
       "<table border=\"1\" class=\"dataframe\">\n",
       "  <thead>\n",
       "    <tr style=\"text-align: right;\">\n",
       "      <th></th>\n",
       "      <th>Unnamed: 0.1</th>\n",
       "      <th>Unnamed: 0</th>\n",
       "      <th>asin</th>\n",
       "      <th>helpful</th>\n",
       "      <th>overall</th>\n",
       "      <th>reviewText</th>\n",
       "      <th>reviewTime</th>\n",
       "      <th>reviewerID</th>\n",
       "      <th>reviewerName</th>\n",
       "      <th>unixReviewTime</th>\n",
       "      <th>reviewText_punctuation</th>\n",
       "      <th>reviewText_stopwords</th>\n",
       "      <th>reviewText_tokenized</th>\n",
       "      <th>reviewText_lemmatized</th>\n",
       "    </tr>\n",
       "  </thead>\n",
       "  <tbody>\n",
       "    <tr>\n",
       "      <th>0</th>\n",
       "      <td>0</td>\n",
       "      <td>0</td>\n",
       "      <td>B000F83SZQ</td>\n",
       "      <td>[0, 0]</td>\n",
       "      <td>5</td>\n",
       "      <td>i enjoy vintage books and movies so i enjoyed ...</td>\n",
       "      <td>2014-05-05</td>\n",
       "      <td>A1F6404F1VG29J</td>\n",
       "      <td>Avidreader</td>\n",
       "      <td>1399248000</td>\n",
       "      <td>i enjoy vintage books and movies so i enjoyed ...</td>\n",
       "      <td>enjoy vintage books movies enjoyed reading boo...</td>\n",
       "      <td>['enjoy', 'vintage', 'books', 'movies', 'enjoy...</td>\n",
       "      <td>['enjoy', 'vintage', 'book', 'movie', 'enjoyed...</td>\n",
       "    </tr>\n",
       "    <tr>\n",
       "      <th>1</th>\n",
       "      <td>1</td>\n",
       "      <td>1</td>\n",
       "      <td>B000F83SZQ</td>\n",
       "      <td>[2, 2]</td>\n",
       "      <td>4</td>\n",
       "      <td>this book is a reissue of an old one; the auth...</td>\n",
       "      <td>2014-01-06</td>\n",
       "      <td>AN0N05A9LIJEQ</td>\n",
       "      <td>critters</td>\n",
       "      <td>1388966400</td>\n",
       "      <td>this book is a reissue of an old one the autho...</td>\n",
       "      <td>book reissue old one author born 1910 era say ...</td>\n",
       "      <td>['book', 'reissue', 'old', 'one', 'author', 'b...</td>\n",
       "      <td>['book', 'reissue', 'old', 'one', 'author', 'b...</td>\n",
       "    </tr>\n",
       "    <tr>\n",
       "      <th>2</th>\n",
       "      <td>2</td>\n",
       "      <td>2</td>\n",
       "      <td>B000F83SZQ</td>\n",
       "      <td>[2, 2]</td>\n",
       "      <td>4</td>\n",
       "      <td>this was a fairly interesting read. it had old...</td>\n",
       "      <td>2014-04-04</td>\n",
       "      <td>A795DMNCJILA6</td>\n",
       "      <td>dot</td>\n",
       "      <td>1396569600</td>\n",
       "      <td>this was a fairly interesting read it had old ...</td>\n",
       "      <td>fairly interesting read old style terminologyi...</td>\n",
       "      <td>['fairly', 'interesting', 'read', 'old', 'styl...</td>\n",
       "      <td>['fairly', 'interesting', 'read', 'old', 'styl...</td>\n",
       "    </tr>\n",
       "    <tr>\n",
       "      <th>3</th>\n",
       "      <td>3</td>\n",
       "      <td>3</td>\n",
       "      <td>B000F83SZQ</td>\n",
       "      <td>[1, 1]</td>\n",
       "      <td>5</td>\n",
       "      <td>i'd never read any of the amy brewster mysteri...</td>\n",
       "      <td>2014-02-19</td>\n",
       "      <td>A1FV0SX13TWVXQ</td>\n",
       "      <td>Elaine H. Turley \"Montana Songbird\"</td>\n",
       "      <td>1392768000</td>\n",
       "      <td>id never read any of the amy brewster mysterie...</td>\n",
       "      <td>id never read amy brewster mysteries one reall...</td>\n",
       "      <td>['id', 'never', 'read', 'amy', 'brewster', 'my...</td>\n",
       "      <td>['id', 'never', 'read', 'amy', 'brewster', 'my...</td>\n",
       "    </tr>\n",
       "    <tr>\n",
       "      <th>4</th>\n",
       "      <td>4</td>\n",
       "      <td>4</td>\n",
       "      <td>B000F83SZQ</td>\n",
       "      <td>[0, 1]</td>\n",
       "      <td>4</td>\n",
       "      <td>if you like period pieces - clothing, lingo, y...</td>\n",
       "      <td>2014-03-19</td>\n",
       "      <td>A3SPTOKDG7WBLN</td>\n",
       "      <td>Father Dowling Fan</td>\n",
       "      <td>1395187200</td>\n",
       "      <td>if you like period pieces  clothing lingo you ...</td>\n",
       "      <td>like period pieces clothing lingo enjoy myster...</td>\n",
       "      <td>['like', 'period', 'pieces', 'clothing', 'ling...</td>\n",
       "      <td>['like', 'period', 'piece', 'clothing', 'lingo...</td>\n",
       "    </tr>\n",
       "  </tbody>\n",
       "</table>\n",
       "</div>"
      ],
      "text/plain": [
       "   Unnamed: 0.1  Unnamed: 0        asin helpful  overall  \\\n",
       "0             0           0  B000F83SZQ  [0, 0]        5   \n",
       "1             1           1  B000F83SZQ  [2, 2]        4   \n",
       "2             2           2  B000F83SZQ  [2, 2]        4   \n",
       "3             3           3  B000F83SZQ  [1, 1]        5   \n",
       "4             4           4  B000F83SZQ  [0, 1]        4   \n",
       "\n",
       "                                          reviewText  reviewTime  \\\n",
       "0  i enjoy vintage books and movies so i enjoyed ...  2014-05-05   \n",
       "1  this book is a reissue of an old one; the auth...  2014-01-06   \n",
       "2  this was a fairly interesting read. it had old...  2014-04-04   \n",
       "3  i'd never read any of the amy brewster mysteri...  2014-02-19   \n",
       "4  if you like period pieces - clothing, lingo, y...  2014-03-19   \n",
       "\n",
       "       reviewerID                         reviewerName  unixReviewTime  \\\n",
       "0  A1F6404F1VG29J                           Avidreader      1399248000   \n",
       "1   AN0N05A9LIJEQ                             critters      1388966400   \n",
       "2   A795DMNCJILA6                                  dot      1396569600   \n",
       "3  A1FV0SX13TWVXQ  Elaine H. Turley \"Montana Songbird\"      1392768000   \n",
       "4  A3SPTOKDG7WBLN                   Father Dowling Fan      1395187200   \n",
       "\n",
       "                              reviewText_punctuation  \\\n",
       "0  i enjoy vintage books and movies so i enjoyed ...   \n",
       "1  this book is a reissue of an old one the autho...   \n",
       "2  this was a fairly interesting read it had old ...   \n",
       "3  id never read any of the amy brewster mysterie...   \n",
       "4  if you like period pieces  clothing lingo you ...   \n",
       "\n",
       "                                reviewText_stopwords  \\\n",
       "0  enjoy vintage books movies enjoyed reading boo...   \n",
       "1  book reissue old one author born 1910 era say ...   \n",
       "2  fairly interesting read old style terminologyi...   \n",
       "3  id never read amy brewster mysteries one reall...   \n",
       "4  like period pieces clothing lingo enjoy myster...   \n",
       "\n",
       "                                reviewText_tokenized  \\\n",
       "0  ['enjoy', 'vintage', 'books', 'movies', 'enjoy...   \n",
       "1  ['book', 'reissue', 'old', 'one', 'author', 'b...   \n",
       "2  ['fairly', 'interesting', 'read', 'old', 'styl...   \n",
       "3  ['id', 'never', 'read', 'amy', 'brewster', 'my...   \n",
       "4  ['like', 'period', 'pieces', 'clothing', 'ling...   \n",
       "\n",
       "                               reviewText_lemmatized  \n",
       "0  ['enjoy', 'vintage', 'book', 'movie', 'enjoyed...  \n",
       "1  ['book', 'reissue', 'old', 'one', 'author', 'b...  \n",
       "2  ['fairly', 'interesting', 'read', 'old', 'styl...  \n",
       "3  ['id', 'never', 'read', 'amy', 'brewster', 'my...  \n",
       "4  ['like', 'period', 'piece', 'clothing', 'lingo...  "
      ]
     },
     "execution_count": 7,
     "metadata": {},
     "output_type": "execute_result"
    }
   ],
   "source": [
    "df = pd.read_csv(\"amazon_Reviews_Cleaned.csv\")\n",
    "df.head()"
   ]
  },
  {
   "cell_type": "code",
   "execution_count": 8,
   "metadata": {},
   "outputs": [],
   "source": [
    "#Negative 1,2,3 ratings. Positive 4 and 5 ratings\n",
    "df['sentiments'] = df.overall.apply(lambda x: 0 if x in [1, 2, 3] else 1)"
   ]
  },
  {
   "cell_type": "code",
   "execution_count": 9,
   "metadata": {},
   "outputs": [],
   "source": [
    "#sample\n",
    "np.random.seed(34)\n",
    "dfsample = df.sample(frac = 0.25)\n"
   ]
  },
  {
   "cell_type": "code",
   "execution_count": 10,
   "metadata": {},
   "outputs": [],
   "source": [
    "#Separating input feature and label\n",
    "X = dfsample['reviewText_lemmatized']\n",
    "y = dfsample['sentiments']"
   ]
  },
  {
   "cell_type": "code",
   "execution_count": 11,
   "metadata": {},
   "outputs": [],
   "source": [
    "X_train, X_test, y_train, y_test = train_test_split(X,y,test_size = 0.05, random_state =26105111)"
   ]
  },
  {
   "cell_type": "code",
   "execution_count": 12,
   "metadata": {},
   "outputs": [
    {
     "name": "stderr",
     "output_type": "stream",
     "text": [
      "/Users/akhilac/opt/anaconda3/lib/python3.9/site-packages/sklearn/utils/deprecation.py:87: FutureWarning: Function get_feature_names is deprecated; get_feature_names is deprecated in 1.0 and will be removed in 1.2. Please use get_feature_names_out instead.\n",
      "  warnings.warn(msg, category=FutureWarning)\n"
     ]
    },
    {
     "name": "stdout",
     "output_type": "stream",
     "text": [
      "No. of feature_words:  500000\n"
     ]
    }
   ],
   "source": [
    "vectorizer = TfidfVectorizer(ngram_range=(1,2), max_features=500000)\n",
    "vectorizer.fit(X_train)\n",
    "print('No. of feature_words: ', len(vectorizer.get_feature_names()))"
   ]
  },
  {
   "cell_type": "code",
   "execution_count": 13,
   "metadata": {},
   "outputs": [],
   "source": [
    "X_train = vectorizer.transform(X_train)\n",
    "X_test  = vectorizer.transform(X_test)"
   ]
  },
  {
   "cell_type": "code",
   "execution_count": 14,
   "metadata": {},
   "outputs": [],
   "source": [
    "#Function For Model Evaluation (Accuracy Score, Confusion Matrix with Plot, ROC-AUC Curve)\n",
    "def model_Evaluate(model):\n",
    "# Predict values for Test dataset\n",
    "    y_pred = model.predict(X_test)\n",
    "# Print the evaluation metrics for the dataset.\n",
    "    print(classification_report(y_test, y_pred))\n",
    "# Compute and plot the Confusion matrix\n",
    "    cf_matrix = confusion_matrix(y_test, y_pred)\n",
    "    categories = ['Negative','Positive']\n",
    "    group_names = ['True Neg','False Pos', 'False Neg','True Pos']\n",
    "    group_percentages = ['{0:.2%}'.format(value) for value in cf_matrix.flatten() / np.sum(cf_matrix)]\n",
    "    labels = [f'{v1}n{v2}' for v1, v2 in zip(group_names,group_percentages)]\n",
    "    labels = np.asarray(labels).reshape(2,2)\n",
    "    sns.heatmap(cf_matrix, annot = labels, cmap = 'Blues',fmt = '',\n",
    "    xticklabels = categories, yticklabels = categories)\n",
    "    plt.xlabel(\"Predicted values\", fontdict = {'size':14}, labelpad = 10)\n",
    "    plt.ylabel(\"Actual values\" , fontdict = {'size':14}, labelpad = 10)\n",
    "    plt.title (\"Confusion Matrix\", fontdict = {'size':18}, pad = 20)"
   ]
  },
  {
   "cell_type": "code",
   "execution_count": 15,
   "metadata": {},
   "outputs": [
    {
     "name": "stdout",
     "output_type": "stream",
     "text": [
      "              precision    recall  f1-score   support\n",
      "\n",
      "           0       0.62      0.55      0.59      1924\n",
      "           1       0.92      0.94      0.93     10359\n",
      "\n",
      "    accuracy                           0.88     12283\n",
      "   macro avg       0.77      0.75      0.76     12283\n",
      "weighted avg       0.87      0.88      0.87     12283\n",
      "\n"
     ]
    },
    {
     "data": {
      "image/png": "[encoded data removed]",
      "text/plain": [
       "<Figure size 432x288 with 2 Axes>"
      ]
     },
     "metadata": {
      "needs_background": "light"
     },
     "output_type": "display_data"
    }
   ],
   "source": [
    "#Bernoulli\n",
    "BNBmodel = BernoulliNB()\n",
    "BNBmodel.fit(X_train, y_train)\n",
    "model_Evaluate(BNBmodel)\n",
    "y_pred1 = BNBmodel.predict(X_test)"
   ]
  },
  {
   "cell_type": "code",
   "execution_count": 16,
   "metadata": {},
   "outputs": [
    {
     "data": {
      "image/png": "[encoded data removed]",
      "text/plain": [
       "<Figure size 432x288 with 1 Axes>"
      ]
     },
     "metadata": {
      "needs_background": "light"
     },
     "output_type": "display_data"
    }
   ],
   "source": [
    "#Plot the ROC-AUC Curve for Bernoulli Naive Bayes Model\n",
    "from sklearn.metrics import roc_curve, auc\n",
    "fpr, tpr, thresholds = roc_curve(y_test, y_pred1)\n",
    "roc_auc = auc(fpr, tpr)\n",
    "plt.figure()\n",
    "plt.plot(fpr, tpr, color='red', lw=1, label='ROC curve (area = %0.2f)' % roc_auc)\n",
    "plt.xlim([0.0, 1.0])\n",
    "plt.ylim([0.0, 1.05])\n",
    "plt.xlabel('False Positive Rate')\n",
    "plt.ylabel('True Positive Rate')\n",
    "plt.title('ROC CURVE')\n",
    "plt.legend(loc=\"lower right\")\n",
    "plt.show()"
   ]
  },
  {
   "cell_type": "code",
   "execution_count": 17,
   "metadata": {},
   "outputs": [
    {
     "name": "stdout",
     "output_type": "stream",
     "text": [
      "              precision    recall  f1-score   support\n",
      "\n",
      "           0       0.83      0.60      0.70      1924\n",
      "           1       0.93      0.98      0.95     10359\n",
      "\n",
      "    accuracy                           0.92     12283\n",
      "   macro avg       0.88      0.79      0.83     12283\n",
      "weighted avg       0.91      0.92      0.91     12283\n",
      "\n"
     ]
    },
    {
     "data": {
      "image/png": "[encoded data removed]",
      "text/plain": [
       "<Figure size 432x288 with 2 Axes>"
      ]
     },
     "metadata": {
      "needs_background": "light"
     },
     "output_type": "display_data"
    }
   ],
   "source": [
    "#Logistic Regression\n",
    "LRmodel = LogisticRegression(C = 2, max_iter = 1000, n_jobs=-1)\n",
    "LRmodel.fit(X_train, y_train)\n",
    "model_Evaluate(LRmodel)\n",
    "y_pred3 = LRmodel.predict(X_test)"
   ]
  },
  {
   "cell_type": "code",
   "execution_count": 18,
   "metadata": {},
   "outputs": [
    {
     "data": {
      "image/png": "[encoded data removed]",
      "text/plain": [
       "<Figure size 432x288 with 1 Axes>"
      ]
     },
     "metadata": {
      "needs_background": "light"
     },
     "output_type": "display_data"
    }
   ],
   "source": [
    "#Plot the ROC-AUC Curve for Logistic Regression Model\n",
    "from sklearn.metrics import roc_curve, auc\n",
    "fpr, tpr, thresholds = roc_curve(y_test, y_pred3)\n",
    "roc_auc = auc(fpr, tpr)\n",
    "plt.figure()\n",
    "plt.plot(fpr, tpr, color='red', lw=1, label='ROC curve (area = %0.2f)' % roc_auc)\n",
    "plt.xlim([0.0, 1.0])\n",
    "plt.ylim([0.0, 1.05])\n",
    "plt.xlabel('False Positive Rate')\n",
    "plt.ylabel('True Positive Rate')\n",
    "plt.title('ROC CURVE')\n",
    "plt.legend(loc=\"lower right\")\n",
    "plt.show()"
   ]
  }
 ],
 "metadata": {
  "kernelspec": {
   "display_name": "Python 3.9.12 ('base')",
   "language": "python",
   "name": "python3"
  },
  "language_info": {
   "codemirror_mode": {
    "name": "ipython",
    "version": 3
   },
   "file_extension": ".py",
   "mimetype": "text/x-python",
   "name": "python",
   "nbconvert_exporter": "python",
   "pygments_lexer": "ipython3",
   "version": "3.9.12"
  },
  "orig_nbformat": 4,
  "vscode": {
   "interpreter": {
    "hash": "de93ff62a9b661fcbf5fa224c703318f843a1d73d47f1a1ff411af91145b558a"
   }
  }
 },
 "nbformat": 4,
 "nbformat_minor": 2
}
